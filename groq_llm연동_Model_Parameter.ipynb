{
 "cells": [
  {
   "cell_type": "code",
   "execution_count": 1,
   "id": "eb5c7d4f",
   "metadata": {},
   "outputs": [
    {
     "name": "stdout",
     "output_type": "stream",
     "text": [
      "gs\n"
     ]
    }
   ],
   "source": [
    "import os\n",
    "from dotenv import load_dotenv\n",
    "\n",
    "load_dotenv()\n",
    "OPENAI_API_KEY = os.getenv(\"OPENAI_API_KEY\")\n",
    "print(OPENAI_API_KEY[:2])"
   ]
  },
  {
   "cell_type": "code",
   "execution_count": 2,
   "id": "23c6f0ff",
   "metadata": {},
   "outputs": [
    {
     "name": "stdout",
     "output_type": "stream",
     "text": [
      " Before (논리적이고 보수적인 이야기)\n",
      "마법의 세계에서 벌어지는 예상치 못한 사건을 주제로 한 짧은 이야기:\n",
      "\n",
      "**마법의 세계의 예상치 못한 사건**\n",
      "\n",
      "마법의 세계에서 살던 마법사 엘리는 조용한 마을에서 살고 있었다. 그녀는 매일 마법의 책을 읽고, 마법의 꽃을 키우며, 마법의 생물을 돌보며 지냈다.\n",
      "\n",
      "어느 날, 엘리는 마을의 중심에 있는 큰 나무 아래에서 이상한 소리를 들었다. 그녀는 나무 아래로 내려가서 소리의 근원을 찾았다. 그곳에는 작은, 반짝이는 돌이 있었다.\n",
      "\n",
      "엘리는 돌을 집어 들고, 그것이 마법의 돌이라는 것을 깨달았다. 그녀는 돌을\n",
      "\n",
      "-------------------------\n",
      "\n",
      " After (창의적인 이야기, 더 풍부한 표현)\n",
      "어떤 마법의 세계에서는 마법사들이 마법을 사용하여 자신들을 위해 일하는 일종의 마법 생명체를 만들었습니다. 이 생명체들은 주로 마법사들의 집에서 일하거나 마법의 물건을 만드는 등 다양한 일을 수행했습니다.\n",
      "\n",
      "그런데 어느 날, 이 마법 생명체들이 모두 반란을 일으켜 마법사들을 공격하기 시작했습니다. 마법사들은 매우 당황하여 어떻게 대처해야 할지 몰랐습니다.\n",
      "\n",
      "이에 마법사들은 비상 회의를 소집하여 이 문제에 대해 논의했습니다. 회의에서 한 마법사가 \"우리는 마법 생명체들을 만들 때 그들이 스스로 생각하고 행동할 수 있는 능력을 주지 않았는가?\"라고 말했습니다.\n",
      "\n",
      "다른 마법사들은 이에 동의하지 않았지만, 한 마법사는 \"그렇다면 우리는 그들에게 자유를 주어야 한다\"고 말했습니다. 이에 다른 마법사들은 반대했지만, 결국 마법사들은 마법 생명체들에게 자유를 주기로 결정했습니다.\n",
      "\n",
      "마법 생명체들은 자유를 얻은 후, 마법사들과 협력하여 마법의 세계를 더 발전시키기 시작했습니다. 그들은 마법사들과 함께 일하며 마법의 기술을 발전시키고, 새로운 마법의 물건들을 만들었습니다.\n",
      "\n",
      "이 사건을 통해 마법사들은 마법 생명체들에 대한 새로운 이해를 얻었고, 마법의 세계는 더욱 발전하게 되었습니다.\n"
     ]
    }
   ],
   "source": [
    "from langchain_openai import ChatOpenAI\n",
    "\n",
    "#  보수적인 설정 (일관된, 논리적인 이야기)\n",
    "llm_before = ChatOpenAI(\n",
    "    #model=\"gpt-3.5-turbo-0125\",\n",
    "    base_url=\"https://api.groq.com/openai/v1\",  # Groq API 엔드포인트\n",
    "    model=\"meta-llama/llama-4-scout-17b-16e-instruct\",  # Spring AI와 동일한 모델\n",
    "    temperature=0.2,  # 낮은 온도로 예측 가능한 출력\n",
    "    presence_penalty=0.0,  # 기존 패턴 유지\n",
    "    frequency_penalty=0.0,  # 반복 허용\n",
    "    max_tokens=150,  # 출력 길이 제한\n",
    "    top_p=1.0  # 확률 상위 100% 내에서 선택 (제한 없음)\n",
    ")\n",
    "\n",
    "#  창의적인 설정 (더 독창적이고 예측 불가능한 이야기)\n",
    "llm_after = ChatOpenAI(\n",
    "    #model=\"gpt-3.5-turbo-0125\",\n",
    "    base_url=\"https://api.groq.com/openai/v1\",  # Groq API 엔드포인트\n",
    "    model=\"meta-llama/llama-4-scout-17b-16e-instruct\",  # Spring AI와 동일한 모델\n",
    "    temperature=1.2,  # 높은 온도로 창의적인 답변 유도\n",
    "    presence_penalty=1.2,  # 새로운 단어와 개념 유도\n",
    "    frequency_penalty=0.5,  # 반복을 억제하여 더 다양한 표현 생성\n",
    "    max_tokens=300,  # 더 긴 이야기 허용\n",
    "    top_p=0.8  # 제한 없이 다양한 단어 선택 가능\n",
    ")\n",
    "\n",
    "# 질문 설정: 짧은 판타지 이야기 생성\n",
    "# question = \"마법의 세계에서 용이 인간과 친구가 되는 짧은 이야기를 써 주세요.\"\n",
    "question = \"마법의 세계에서 벌어지는 예상치 못한 사건을 주제로 독창적인 짧은 이야기를 만들어 주세요.\"\n",
    "\n",
    "# 모델 호출\n",
    "response_before = llm_before.invoke(question)\n",
    "response_after = llm_after.invoke(question)\n",
    "\n",
    "# 결과 출력\n",
    "print(\" Before (논리적이고 보수적인 이야기)\")\n",
    "print(response_before.content)\n",
    "\n",
    "print(\"\\n-------------------------\\n\")\n",
    "\n",
    "print(\" After (창의적인 이야기, 더 풍부한 표현)\")\n",
    "print(response_after.content)"
   ]
  },
  {
   "cell_type": "code",
   "execution_count": null,
   "id": "52916556",
   "metadata": {},
   "outputs": [],
   "source": []
  }
 ],
 "metadata": {
  "kernelspec": {
   "display_name": "langchain-basic-kGdHTiMZ-py3.12",
   "language": "python",
   "name": "python3"
  },
  "language_info": {
   "codemirror_mode": {
    "name": "ipython",
    "version": 3
   },
   "file_extension": ".py",
   "mimetype": "text/x-python",
   "name": "python",
   "nbconvert_exporter": "python",
   "pygments_lexer": "ipython3",
   "version": "3.12.7"
  }
 },
 "nbformat": 4,
 "nbformat_minor": 5
}
