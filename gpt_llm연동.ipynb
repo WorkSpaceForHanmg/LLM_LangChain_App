{
 "cells": [
  {
   "cell_type": "code",
   "execution_count": null,
   "id": "b68eab6f",
   "metadata": {},
   "outputs": [
    {
     "name": "stdout",
     "output_type": "stream",
     "text": [
      "Hello LangChain\n"
     ]
    }
   ],
   "source": [
    "print('Hello LangChain ChatGPT')"
   ]
  },
  {
   "cell_type": "code",
   "execution_count": null,
   "id": "b429d1dc",
   "metadata": {},
   "outputs": [],
   "source": [
    "import os\n",
    "from dotenv import load_dotenv\n",
    "from langchain_core.prompts import ChatPromptTemplate\n",
    "from langchain_openai import ChatOpenAI \n",
    "\n",
    "\n",
    "load_dotenv()\n",
    "OPENAI_API_KEY = os.getenv(\"OPENAI_API_KEY\")"
   ]
  },
  {
   "cell_type": "code",
   "execution_count": 4,
   "id": "6698dc29",
   "metadata": {},
   "outputs": [
    {
     "name": "stdout",
     "output_type": "stream",
     "text": [
      "input_variables=['input'] input_types={} partial_variables={} messages=[SystemMessagePromptTemplate(prompt=PromptTemplate(input_variables=[], input_types={}, partial_variables={}, template='당신은 개발자입니다.'), additional_kwargs={}), HumanMessagePromptTemplate(prompt=PromptTemplate(input_variables=['input'], input_types={}, partial_variables={}, template='{input}'), additional_kwargs={})]\n"
     ]
    }
   ],
   "source": [
    "# prompt\n",
    "prompt = ChatPromptTemplate.from_messages(\n",
    "    [ (\"system\", \"당신은 개발자입니다.\") , \n",
    "     (\"user\", \"{input}\") ]\n",
    ")\n",
    "print(prompt)\n",
    "\n",
    "prompt_text = prompt.format(input=\"LangServe은 무엇인가요? 자세하게 설명해주세요\")"
   ]
  },
  {
   "cell_type": "code",
   "execution_count": null,
   "id": "179f3ecc",
   "metadata": {},
   "outputs": [
    {
     "name": "stdout",
     "output_type": "stream",
     "text": [
      "client=<openai.resources.chat.completions.completions.Completions object at 0x000001B78875E2A0> async_client=<openai.resources.chat.completions.completions.AsyncCompletions object at 0x000001B78875D220> root_client=<openai.OpenAI object at 0x000001B78875C590> root_async_client=<openai.AsyncOpenAI object at 0x000001B78875E360> model_name='gpt-4o-mini' temperature=0.7 model_kwargs={} openai_api_key=SecretStr('**********')\n"
     ]
    }
   ],
   "source": [
    "# chatGPT API를 사용하는 ChatOpenAI 인스턴스 생성\n",
    "llm = ChatOpenAI(\n",
    "    #model=\"gpt-3.5-turbo-0125\",\n",
    "    #model=\"gpt-4o-mini\",\n",
    "    model=\"gpt-4o\",\n",
    "    temperature=0.7\n",
    ")\n",
    "print(llm)"
   ]
  },
  {
   "cell_type": "code",
   "execution_count": 9,
   "id": "df643648",
   "metadata": {},
   "outputs": [
    {
     "name": "stdout",
     "output_type": "stream",
     "text": [
      "<class 'langchain_core.messages.ai.AIMessage'>\n",
      "content='LangServe는 자연어 처리(NLP)와 관련된 기능을 제공하는 언어 모델 서비스입니다. 주로 언어 모델을 활용하여 다양한 애플리케이션에서 텍스트 생성, 번역, 요약, 질문 응답 등과 같은 작업을 수행할 수 있도록 돕습니다. LangServe는 사용자 친화적인 API를 통해 개발자들이 손쉽게 자신의 애플리케이션에 언어 모델을 통합할 수 있도록 설계되어 있습니다.\\n\\n### LangServe의 주요 기능:\\n\\n1. **텍스트 생성**: 사용자가 입력한 프롬프트에 기반하여 자연스럽고 일관된 텍스트를 생성합니다. 이는 블로그 포스트, 기사, 소설 등의 작성에 유용합니다.\\n\\n2. **번역**: 다양한 언어 간의 번역 기능을 제공하여, 다국어 지원이 필요한 애플리케이션에서 쉽게 사용할 수 있습니다.\\n\\n3. **요약**: 긴 텍스트를 짧고 간결하게 요약하는 기능을 제공하여, 정보를 빠르게 전달할 수 있도록 돕습니다.\\n\\n4. **질문 응답**: 사용자가 입력한 질문에 대해 관련된 답변을 제공하는 기능으로, 고객 지원 챗봇이나 FAQ 시스템에 유용합니다.\\n\\n5. **사용자 정의 모델**: 특정 도메인이나 요구에 맞춘 사용자 정의 모델을 훈련할 수 있는 기능을 제공하여, 특정 산업이나 용도에 최적화된 결과를 얻을 수 있습니다.\\n\\n### LangServe의 장점:\\n\\n- **확장성**: 많은 양의 요청을 처리할 수 있어 대규모 애플리케이션에 적합합니다.\\n- **유연성**: 다양한 언어와 형식을 지원하여 다양한 사용 사례에 적용할 수 있습니다.\\n- **신뢰성**: 지속적인 업데이트와 개선을 통해 최신 기술을 유지합니다.\\n\\nLangServe는 이러한 기능들을 통해 개발자들이 복잡한 NLP 작업을 간소화하고, 보다 효율적으로 애플리케이션을 개발할 수 있도록 지원합니다. 이를 통해 기업이나 개인 사용자는 더 나은 사용자 경험을 제공할 수 있습니다.' additional_kwargs={'refusal': None} response_metadata={'token_usage': {'completion_tokens': 456, 'prompt_tokens': 28, 'total_tokens': 484, 'completion_tokens_details': {'accepted_prediction_tokens': 0, 'audio_tokens': 0, 'reasoning_tokens': 0, 'rejected_prediction_tokens': 0}, 'prompt_tokens_details': {'audio_tokens': 0, 'cached_tokens': 0}}, 'model_name': 'gpt-4o-mini-2024-07-18', 'system_fingerprint': 'fp_34a54ae93c', 'id': 'chatcmpl-BglW1H35FJB0oS1uMYMvE4ASTWrZC', 'service_tier': 'default', 'finish_reason': 'stop', 'logprobs': None} id='run--688429cd-2477-4448-bb9f-5e740c68186d-0' usage_metadata={'input_tokens': 28, 'output_tokens': 456, 'total_tokens': 484, 'input_token_details': {'audio': 0, 'cache_read': 0}, 'output_token_details': {'audio': 0, 'reasoning': 0}}\n",
      "응답: LangServe는 자연어 처리(NLP)와 관련된 기능을 제공하는 언어 모델 서비스입니다. 주로 언어 모델을 활용하여 다양한 애플리케이션에서 텍스트 생성, 번역, 요약, 질문 응답 등과 같은 작업을 수행할 수 있도록 돕습니다. LangServe는 사용자 친화적인 API를 통해 개발자들이 손쉽게 자신의 애플리케이션에 언어 모델을 통합할 수 있도록 설계되어 있습니다.\n",
      "\n",
      "### LangServe의 주요 기능:\n",
      "\n",
      "1. **텍스트 생성**: 사용자가 입력한 프롬프트에 기반하여 자연스럽고 일관된 텍스트를 생성합니다. 이는 블로그 포스트, 기사, 소설 등의 작성에 유용합니다.\n",
      "\n",
      "2. **번역**: 다양한 언어 간의 번역 기능을 제공하여, 다국어 지원이 필요한 애플리케이션에서 쉽게 사용할 수 있습니다.\n",
      "\n",
      "3. **요약**: 긴 텍스트를 짧고 간결하게 요약하는 기능을 제공하여, 정보를 빠르게 전달할 수 있도록 돕습니다.\n",
      "\n",
      "4. **질문 응답**: 사용자가 입력한 질문에 대해 관련된 답변을 제공하는 기능으로, 고객 지원 챗봇이나 FAQ 시스템에 유용합니다.\n",
      "\n",
      "5. **사용자 정의 모델**: 특정 도메인이나 요구에 맞춘 사용자 정의 모델을 훈련할 수 있는 기능을 제공하여, 특정 산업이나 용도에 최적화된 결과를 얻을 수 있습니다.\n",
      "\n",
      "### LangServe의 장점:\n",
      "\n",
      "- **확장성**: 많은 양의 요청을 처리할 수 있어 대규모 애플리케이션에 적합합니다.\n",
      "- **유연성**: 다양한 언어와 형식을 지원하여 다양한 사용 사례에 적용할 수 있습니다.\n",
      "- **신뢰성**: 지속적인 업데이트와 개선을 통해 최신 기술을 유지합니다.\n",
      "\n",
      "LangServe는 이러한 기능들을 통해 개발자들이 복잡한 NLP 작업을 간소화하고, 보다 효율적으로 애플리케이션을 개발할 수 있도록 지원합니다. 이를 통해 기업이나 개인 사용자는 더 나은 사용자 경험을 제공할 수 있습니다.\n"
     ]
    }
   ],
   "source": [
    "try:\n",
    "    response = llm.invoke(prompt_text)\n",
    "    print(type(response))\n",
    "    print(response)\n",
    "    print(\"응답:\", response.content)\n",
    "except Exception as e:\n",
    "    print(f\"오류 발생: {e}\")"
   ]
  }
 ],
 "metadata": {
  "kernelspec": {
   "display_name": "langchain-basic-kGdHTiMZ-py3.12",
   "language": "python",
   "name": "python3"
  },
  "language_info": {
   "codemirror_mode": {
    "name": "ipython",
    "version": 3
   },
   "file_extension": ".py",
   "mimetype": "text/x-python",
   "name": "python",
   "nbconvert_exporter": "python",
   "pygments_lexer": "ipython3",
   "version": "3.12.7"
  }
 },
 "nbformat": 4,
 "nbformat_minor": 5
}
