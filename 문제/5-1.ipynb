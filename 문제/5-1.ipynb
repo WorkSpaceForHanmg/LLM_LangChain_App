{
 "cells": [
  {
   "cell_type": "code",
   "execution_count": 11,
   "id": "595370bf",
   "metadata": {},
   "outputs": [
    {
     "name": "stdout",
     "output_type": "stream",
     "text": [
      "gs\n"
     ]
    }
   ],
   "source": [
    "import re\n",
    "import os\n",
    "from textwrap import dedent\n",
    "from pprint import pprint\n",
    "from typing import List\n",
    "\n",
    "from dotenv import load_dotenv\n",
    "from langchain_openai import ChatOpenAI\n",
    "from langchain_community.tools import TavilySearchResults\n",
    "from langchain_core.tools import tool\n",
    "from langchain_core.documents import Document\n",
    "from langchain_community.vectorstores import FAISS\n",
    "from langchain_ollama import OllamaEmbeddings\n",
    "from langchain.document_loaders import TextLoader\n",
    "from langchain_community.document_loaders import WikipediaLoader\n",
    "from langchain_core.prompts import ChatPromptTemplate\n",
    "from langchain_core.runnables import RunnableConfig, RunnableLambda, chain\n",
    "from pydantic import BaseModel, Field\n",
    "\n",
    "load_dotenv()\n",
    "OPENAI_API_KEY = os.getenv(\"OPENAI_API_KEY\")\n",
    "print(OPENAI_API_KEY[:2])"
   ]
  },
  {
   "cell_type": "code",
   "execution_count": 12,
   "id": "f634f64f",
   "metadata": {},
   "outputs": [],
   "source": [
    "# 1. 벡터 DB 구축\n",
    "def create_cafe_vector_db():\n",
    "    loader = TextLoader(\"../data/cafe_menu_data.txt\", encoding=\"utf-8\")\n",
    "    documents = loader.load()\n",
    "\n",
    "    def split_menu_items(document):\n",
    "        pattern = r'(\\d+\\.\\s.*?)(?=\\n\\n\\d+\\.|$)'\n",
    "        items = re.findall(pattern, document.page_content, re.DOTALL)\n",
    "        return [\n",
    "            Document(\n",
    "                page_content=item.strip(),\n",
    "                metadata={\n",
    "                    \"source\": document.metadata.get(\"source\", \"\"),\n",
    "                    \"menu_number\": i,\n",
    "                    \"menu_name\": item.split('\\n')[0].split('.', 1)[1].strip()\n",
    "                }\n",
    "            )\n",
    "            for i, item in enumerate(items, 1)\n",
    "        ]\n",
    "\n",
    "    menu_documents = [doc for d in documents for doc in split_menu_items(d)]\n",
    "    embeddings = OllamaEmbeddings(model=\"bge-m3:latest\")\n",
    "    db = FAISS.from_documents(menu_documents, embeddings)\n",
    "    db.save_local(\"./db/cafe_db\")\n",
    "    return db"
   ]
  },
  {
   "cell_type": "code",
   "execution_count": 13,
   "id": "6a189213",
   "metadata": {},
   "outputs": [],
   "source": [
    "# 2. 도구 정의\n",
    "@tool\n",
    "def tavily_search_func(query: str) -> str:\n",
    "    \"\"\"인터넷에서 최신 정보나 외부 일반 정보를 검색합니다.\"\"\"\n",
    "    tavily = TavilySearchResults(max_results=2)\n",
    "    docs = tavily.invoke(query)\n",
    "    if not docs:\n",
    "        return \"관련 정보를 찾을 수 없습니다.\"\n",
    "\n",
    "    return \"\\n---\\n\".join(\n",
    "        f'<Document href=\"{doc[\"url\"]}\"/>\\n{doc[\"content\"]}\\n</Document>'\n",
    "        for doc in docs\n",
    "    )\n",
    "\n",
    "def wiki_search_and_summarize(input_data: dict):\n",
    "    loader = WikipediaLoader(query=input_data[\"query\"], load_max_docs=2, lang=\"ko\")\n",
    "    docs = loader.load()\n",
    "    return [\n",
    "        f'<Document source=\"{doc.metadata.get(\"source\", \"Wikipedia\")}\"/>\\n{doc.page_content}\\n</Document>'\n",
    "        for doc in docs\n",
    "    ]\n",
    "\n",
    "class WikiSummarySchema(BaseModel):\n",
    "    \"\"\"Input schema for Wikipedia search and summarization\"\"\"\n",
    "    query: str = Field(..., description=\"Wikipedia에서 검색할 쿼리입니다.\")\n",
    "\n",
    "summary_chain = (\n",
    "    {\"context\": RunnableLambda(wiki_search_and_summarize)}\n",
    "    | ChatPromptTemplate.from_template(\"Summarize the following text:\\n\\n{context}\\n\\nSummary:\")\n",
    "    | ChatOpenAI(\n",
    "        base_url=\"https://api.groq.com/openai/v1\",\n",
    "        model=\"meta-llama/llama-4-scout-17b-16e-instruct\",\n",
    "        temperature=0.7\n",
    "    )\n",
    ")\n",
    "\n",
    "wiki_summary = summary_chain.as_tool(\n",
    "    name=\"wiki_summary\",\n",
    "    description=dedent(\"\"\"\n",
    "        위키백과에서 정보를 찾아 요약합니다.\n",
    "        배경지식이나 일반적인 정보를 확인할 때 유용합니다.\n",
    "    \"\"\"),\n",
    "    args_schema=WikiSummarySchema\n",
    ")\n",
    "\n",
    "@tool\n",
    "def db_search_cafe_func(query: str) -> List[Document]:\n",
    "    \"\"\"카페 메뉴 벡터 DB에서 유사 항목을 검색합니다.\"\"\"\n",
    "    embeddings = OllamaEmbeddings(model=\"bge-m3:latest\")\n",
    "    db = FAISS.load_local(\"./db/cafe_db\", embeddings, allow_dangerous_deserialization=True)\n",
    "    results = db.similarity_search(query, k=2)\n",
    "    return results if results else [Document(page_content=\"관련 카페 메뉴 정보를 찾을 수 없습니다.\")]\n"
   ]
  },
  {
   "cell_type": "code",
   "execution_count": 14,
   "id": "b8498e77",
   "metadata": {},
   "outputs": [],
   "source": [
    "# 3. LLM 설정 및 도구 바인딩\n",
    "tools = [tavily_search_func, wiki_summary, db_search_cafe_func]\n",
    "llm = ChatOpenAI(\n",
    "    api_key=OPENAI_API_KEY,\n",
    "    base_url=\"https://api.groq.com/openai/v1\",\n",
    "    model=\"meta-llama/llama-4-scout-17b-16e-instruct\",\n",
    "    temperature=0.7\n",
    ")\n",
    "llm_with_tools = llm.bind_tools(tools=tools)"
   ]
  },
  {
   "cell_type": "code",
   "execution_count": 15,
   "id": "7be3b8f4",
   "metadata": {},
   "outputs": [],
   "source": [
    "# 4. 도구 호출 체인\n",
    "@chain\n",
    "def cafe_search_chain(user_input: str, config: RunnableConfig):\n",
    "    ai_msg = llm_with_tools.invoke(user_input, config=config)\n",
    "\n",
    "    tool_results = []\n",
    "    for call in ai_msg.tool_calls:\n",
    "        name = call[\"name\"]\n",
    "        if name == \"tavily_search_func\":\n",
    "            tool_results.append(tavily_search_func.invoke(call, config=config))\n",
    "        elif name == \"wiki_summary\":\n",
    "            tool_results.append(wiki_summary.invoke(call, config=config))\n",
    "        elif name == \"db_search_cafe_func\":\n",
    "            tool_results.append(db_search_cafe_func.invoke(call, config=config))\n",
    "\n",
    "    tool_output = \"\\n\\n\".join(str(r.content) for r in tool_results)\n",
    "    final_prompt = ChatPromptTemplate.from_messages([\n",
    "        (\"system\", \"You are a helpful cafe assistant. Provide accurate information.\"),\n",
    "        (\"human\", \"{user_input}\"),\n",
    "        (\"ai\", ai_msg.content or \"도구를 사용해 정보를 찾았습니다.\"),\n",
    "        (\"human\", \"검색 결과: {tool_results}\")\n",
    "    ])\n",
    "    return (final_prompt | llm).invoke({\n",
    "        \"user_input\": user_input,\n",
    "        \"tool_results\": tool_output\n",
    "    }, config=config)"
   ]
  },
  {
   "cell_type": "code",
   "execution_count": 16,
   "id": "5a48b0a8",
   "metadata": {},
   "outputs": [
    {
     "name": "stdout",
     "output_type": "stream",
     "text": [
      "카페 메뉴 벡터 DB 생성 완료.\n",
      "질문: 아메리카노의 가격과 유래가 궁금해요.\n",
      "답변: 아메리카노의 가격과 유래에 대해 알려드리겠습니다.\n",
      "\n",
      "아메리카노는 에스프레소에 뜨거운 물을 추가하여 희석시킨 커피입니다. 이름의 유래는 2차 세계 대전 당시 이탈리아에 파견된 미국 군인들이 에스프레소가 너무 강하다고 느껴 물을 추가하여 마셨던 것에서 비롯되었다고 합니다.\n",
      "\n",
      "국내 카페의 아메리카노 가격은 브랜드와 지역에 따라 다르지만, 평균적으로 4,000원에서 6,000원 사이입니다. 스타벅스, 카페베네, 이디야 등 대형 브랜드의 경우 5,000원대, 중소형 카페의 경우 4,000원대에 판매하는 경우가 많습니다.\n",
      "\n",
      "보다 자세한 정보가 필요하시면 언제든지 질문해 주세요.\n"
     ]
    }
   ],
   "source": [
    "# 5. 실행\n",
    "if __name__ == \"__main__\":\n",
    "    try:\n",
    "        create_cafe_vector_db()\n",
    "        print(\"카페 메뉴 벡터 DB 생성 완료.\")\n",
    "    except Exception as e:\n",
    "        print(f\"DB 생성 오류: {e}\")\n",
    "\n",
    "    query = \"아메리카노의 가격과 유래가 궁금해요.\"\n",
    "    response = cafe_search_chain.invoke(query)\n",
    "    print(\"질문:\", query)\n",
    "    print(\"답변:\", response.content)"
   ]
  }
 ],
 "metadata": {
  "kernelspec": {
   "display_name": "llm-langchain-app-main-JUdlSi0d-py3.12",
   "language": "python",
   "name": "python3"
  },
  "language_info": {
   "codemirror_mode": {
    "name": "ipython",
    "version": 3
   },
   "file_extension": ".py",
   "mimetype": "text/x-python",
   "name": "python",
   "nbconvert_exporter": "python",
   "pygments_lexer": "ipython3",
   "version": "3.12.7"
  }
 },
 "nbformat": 4,
 "nbformat_minor": 5
}
