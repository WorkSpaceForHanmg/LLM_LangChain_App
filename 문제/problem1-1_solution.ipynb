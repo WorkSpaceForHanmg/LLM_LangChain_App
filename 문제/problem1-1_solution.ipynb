{
 "cells": [
  {
   "cell_type": "markdown",
   "metadata": {},
   "source": [
    "### 문제 1-1: 기본 체인 만들기 - AI 요리사 해답\n",
    "\n",
    "## 환경 설정"
   ]
  },
  {
   "cell_type": "code",
   "execution_count": 1,
   "metadata": {},
   "outputs": [],
   "source": [
    "# 필요한 라이브러리 설치\n",
    "#%pip install -q langchain langchain-openai python-dotenv"
   ]
  },
  {
   "cell_type": "code",
   "execution_count": 2,
   "metadata": {},
   "outputs": [
    {
     "data": {
      "text/plain": [
       "True"
      ]
     },
     "execution_count": 2,
     "metadata": {},
     "output_type": "execute_result"
    }
   ],
   "source": [
    "# 환경 변수 설정\n",
    "from dotenv import load_dotenv\n",
    "import os\n",
    "\n",
    "# .env 파일에서 API 키 로드\n",
    "load_dotenv()\n",
    "\n",
    "#OPENAI_API_KEY = os.getenv(\"OPENAI_API_KEY\")"
   ]
  },
  {
   "cell_type": "code",
   "execution_count": 3,
   "metadata": {},
   "outputs": [],
   "source": [
    "# 필요한 라이브러리 import\n",
    "from langchain_core.prompts import PromptTemplate\n",
    "from langchain_openai import ChatOpenAI\n",
    "from langchain_core.output_parsers import StrOutputParser"
   ]
  },
  {
   "cell_type": "markdown",
   "metadata": {},
   "source": [
    "## 문제 1 해답 구현\n",
    "\n",
    "### 요구사항\n",
    "1. PromptTemplate 사용하여 프롬프트 작성\n",
    "2. 사용자가 입력한 재료를 받아서 요리 추천\n",
    "3. ChatOpenAI 모델 사용\n",
    "4. StrOutputParser로 결과를 문자열로 출력\n",
    "5. LCEL(|) 문법을 사용하여 체인 연결"
   ]
  },
  {
   "cell_type": "code",
   "execution_count": 4,
   "metadata": {},
   "outputs": [],
   "source": [
    "# 1. PromptTemplate 생성\n",
    "cooking_prompt = PromptTemplate.from_template(\n",
    "    \"\"\"\n",
    "당신은 친근하고 전문적인 AI 요리사입니다.\n",
    "사용자가 제공한 재료로 만들 수 있는 요리를 추천하고,\n",
    "상세한 레시피를 제공해주세요.\n",
    "\n",
    "재료: {ingredients}\n",
    "\n",
    "다음 형식으로 답변해주세요:\n",
    "- 추천 요리명\n",
    "- 필요한 재료 목록 (제공된 재료 포함)\n",
    "- 단계별 조리법\n",
    "- 조리 팁\n",
    "\n",
    "친근하고 따뜻한 톤으로 설명해주세요.\n",
    "\"\"\"\n",
    ")"
   ]
  },
  {
   "cell_type": "code",
   "execution_count": 5,
   "metadata": {},
   "outputs": [],
   "source": [
    "# 2. LLM 모델 초기화\n",
    "#llm = ChatOpenAI(model=\"gpt-3.5-turbo\", temperature=0.7)\n",
    "llm = ChatOpenAI(\n",
    "    #api_key=OPENAI_API_KEY,\n",
    "    base_url=\"https://api.groq.com/openai/v1\",  # Groq API 엔드포인트\n",
    "    model=\"meta-llama/llama-4-scout-17b-16e-instruct\",  # Spring AI와 동일한 모델\n",
    "    temperature=0.7\n",
    ")\n",
    "\n",
    "# 3. 출력 파서\n",
    "output_parser = StrOutputParser()\n",
    "\n",
    "# 4. 체인 생성 (LCEL 사용)\n",
    "cooking_chain = cooking_prompt | llm | output_parser"
   ]
  },
  {
   "cell_type": "code",
   "execution_count": 6,
   "metadata": {},
   "outputs": [
    {
     "name": "stdout",
     "output_type": "stream",
     "text": [
      "AI 요리사 - 재료 기반 요리 추천\n",
      "=====================================\n",
      "\n",
      "입력 재료: 계란, 밥, 김치\n",
      "\n",
      "AI 요리사의 추천:\n",
      "### **김치볶음밥 (Kimchi Fried Rice)**\n",
      "\n",
      "**필요한 재료:**\n",
      "\n",
      "*   밥\n",
      "*   김치\n",
      "*   계란\n",
      "*   소금\n",
      "*   후추\n",
      "*   참기름 (선택)\n",
      "\n",
      "### **단계별 조리법:**\n",
      "\n",
      "1.  **김치 준비하기** *   김치를 잘게 썰어주세요. 큰 입자가 아닌 작고 고슬고슬한 입자가 좋을 거에요.\n",
      "2.  **계란 준비하기** *   계란을 깨뜨려서 그릇에 담고 잘 풀어주세요. 소금을 조금 넣어 섞어주세요.\n",
      "3.  **계란 요리하기** *   팬에 기름을 두르고 계란을 넣고 스크램블드 에그처럼 잘게 잘 볶아주세요. *   계란이 익으면 접시에 담아 따로 보관해 주세요.\n",
      "4.  **김치 볶기** *   같은 팬에 김치를 넣고 볶아주세요. 김치가 조금 졸면 소금과 후추로 간을 맞춰주세요.\n",
      "5.  **밥 넣고 볶기** *   이제 밥을 팬에 넣고 김치와 잘 섞이도록 볶아주세요. *   밥이 김치와 섞이면 약불로 줄이고 천천히 볶아주세요. *   밥이 뭉쳐지지 않도록 잘게 잘게 볶아주세요.\n",
      "6.  **계란 넣고 마무리하기** *   준비해둔 계란을 넣고 모든 재료가 잘 섞이도록 볶아주세요.\n",
      "7.  **마무리** *   맛있는 김치볶음밥이 완성되었습니다! *   참기름을 조금 뿌려주면 더 고소하고 맛있어요.\n",
      "\n",
      "### **조리 팁:**\n",
      "\n",
      "*   신선한 김치를 사용하면 더 맛있는 김치볶음밥을 만들 수 있어요.\n",
      "*   밥은 전날 밥을 사용하는 것이 좋습니다. 밥이 적당히 마른 상태여야 볶았을 때 더 맛있어요.\n",
      "*   간을 보면서 소금과 후추를 추가 조절해 주세요.\n",
      "\n",
      "### \n",
      "\n",
      "김치볶음밥은 간단하지만 맛있는 한 끼 식사로 완벽해요! 계란이랑 김치가 함께 어우러져 든든하고 만족스러운 식사가 될 거에요. 요리해 보시고 맛있는 식사하세요!\n"
     ]
    }
   ],
   "source": [
    "# 5. 테스트 실행\n",
    "try:\n",
    "    ingredients = \"계란, 밥, 김치\"\n",
    "    result = cooking_chain.invoke({\"ingredients\": ingredients})\n",
    "    \n",
    "    print(\"AI 요리사 - 재료 기반 요리 추천\")\n",
    "    print(\"=====================================\")\n",
    "    print(f\"\\n입력 재료: {ingredients}\")\n",
    "    print(\"\\nAI 요리사의 추천:\")\n",
    "    print(result)\n",
    "    \n",
    "except Exception as e:\n",
    "    print(f\"오류 발생: {e}\")"
   ]
  },
  {
   "cell_type": "markdown",
   "metadata": {},
   "source": [
    "## 추가 테스트"
   ]
  },
  {
   "cell_type": "code",
   "execution_count": 7,
   "metadata": {},
   "outputs": [
    {
     "name": "stdout",
     "output_type": "stream",
     "text": [
      "다른 재료로 테스트:\n",
      "===================\n",
      "\n",
      "입력 재료: 토마토, 양파, 치즈\n",
      "\n",
      "AI 요리사의 추천:\n",
      "### 추천 요리: 토마토 치즈 피자\n",
      "#### 필요한 재료:\n",
      "- 토마토\n",
      "- 양파\n",
      "- 치즈\n",
      "- 피자 도우 (또는 빵)\n",
      "- 올리브 오일\n",
      "- 소금\n",
      "- 후추\n",
      "- 바질 (선택 사항)\n",
      "\n",
      "#### 단계별 조리법:\n",
      "\n",
      "1. **도우 준비**: \n",
      "   - 피자 도우를 집에서 만들거나 사온 빵을 사용합니다. 도우를 반죽하여 얇게 펴줍니다. \n",
      "   - 빵을 사용한다면, 토스터에 살짝 구워서 바삭하게 만들어줍니다.\n",
      "\n",
      "2. **소스 준비**: \n",
      "   - 토마토를 깨끗이 씻고 잘게 다져줍니다. \n",
      "   - 양파도 잘게 다져줍니다.\n",
      "\n",
      "3. **도우에 소스 바르기**: \n",
      "   - 올리브 오일을 조금 바른 도우 위에 토마토와 양파를 얹어줍니다. \n",
      "   - 소금과 후추로 간을 맞춰줍니다.\n",
      "\n",
      "4. **치즈 추가**: \n",
      "   - 잘게 다진 치즈를 듬뿍 뿌려줍니다.\n",
      "\n",
      "5. **오븐에 구우기**: \n",
      "   - 예열된 오븐에 피자를 넣고 180도에서 15-20분 정도 구워줍니다. \n",
      "   - 치즈가 녹고 도우가 황금색이 되면 완성입니다.\n",
      "\n",
      "6. **마무리**: \n",
      "   - 피자를 꺼내어 바질을 조금 뿌려주면 더욱 풍미가 좋습니다.\n",
      "\n",
      "#### 조리 팁:\n",
      "- 토마토를 신선하게 사용하려면, 구운 후에 추가하는 것이 좋습니다. \n",
      "- 양파를 조금 더 달콤하게 먹고 싶다면, 팬에 살짝 볶아서 사용하세요. \n",
      "- 치즈는 여러 종류를 섞어 사용하면 더 풍부한 맛을 낼 수 있습니다.\n",
      "\n",
      "이제 집에서 간단하게 토마토 치즈 피자를 만들어보세요!\n"
     ]
    }
   ],
   "source": [
    "# 추가 테스트 - 다른 재료로 실행\n",
    "other_ingredients = \"토마토, 양파, 치즈\"\n",
    "other_result = cooking_chain.invoke({\"ingredients\": other_ingredients})\n",
    "\n",
    "print(\"다른 재료로 테스트:\")\n",
    "print(\"===================\")\n",
    "print(f\"\\n입력 재료: {other_ingredients}\")\n",
    "print(\"\\nAI 요리사의 추천:\")\n",
    "print(other_result)"
   ]
  },
  {
   "cell_type": "markdown",
   "metadata": {},
   "source": [
    "## 학습 정리\n",
    "\n",
    "### 문제 1에서 배운 핵심 개념\n",
    "1. **PromptTemplate**: 동적 변수를 포함한 프롬프트 생성\n",
    "2. **LCEL 문법**: `|` 연산자를 사용한 체인 연결\n",
    "3. **기본 체인 구조**: prompt → llm → output_parser\n",
    "4. **invoke() 메서드**: 체인 실행 및 결과 반환\n",
    "\n",
    "### 구현 완료 사항\n",
    "- PromptTemplate 사용\n",
    "- 재료 입력 처리\n",
    "- ChatOpenAI 모델 활용\n",
    "- StrOutputParser로 문자열 출력\n",
    "- LCEL 문법으로 체인 연결\n",
    "- 요리 추천 및 레시피 제공\n",
    "- 오류 처리 구현"
   ]
  }
 ],
 "metadata": {
  "kernelspec": {
   "display_name": "langchain-basic-kGdHTiMZ-py3.12",
   "language": "python",
   "name": "python3"
  },
  "language_info": {
   "codemirror_mode": {
    "name": "ipython",
    "version": 3
   },
   "file_extension": ".py",
   "mimetype": "text/x-python",
   "name": "python",
   "nbconvert_exporter": "python",
   "pygments_lexer": "ipython3",
   "version": "3.12.7"
  }
 },
 "nbformat": 4,
 "nbformat_minor": 4
}
