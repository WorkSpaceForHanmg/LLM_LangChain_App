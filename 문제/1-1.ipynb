{
 "cells": [
  {
   "cell_type": "code",
   "execution_count": null,
   "id": "e1bc803c",
   "metadata": {},
   "outputs": [],
   "source": []
  },
  {
   "cell_type": "code",
   "execution_count": 4,
   "id": "3ef277e3",
   "metadata": {},
   "outputs": [],
   "source": [
    "import os\n",
    "from dotenv import load_dotenv\n",
    "from langchain_core.prompts import ChatPromptTemplate\n",
    "from langchain_openai import ChatOpenAI \n",
    "\n",
    "\n",
    "load_dotenv()\n",
    "OPENAI_API_KEY = os.getenv(\"OPENAI_API_KEY\")\n",
    "#print(OPENAI_API_KEY)"
   ]
  },
  {
   "cell_type": "code",
   "execution_count": 5,
   "id": "d8c0bdd8",
   "metadata": {},
   "outputs": [
    {
     "data": {
      "text/plain": [
       "PromptTemplate(input_variables=['input'], input_types={}, partial_variables={}, template='\\n    You are an expert in AI Expert. Answer the question. \\n    <Question>: {input}에 대해 쉽게 설명해주세요.\\n    ')"
      ]
     },
     "execution_count": 5,
     "metadata": {},
     "output_type": "execute_result"
    }
   ],
   "source": [
    "from langchain_core.prompts import PromptTemplate\n",
    "\n",
    "prompt = PromptTemplate.from_template(\n",
    "    \"\"\"\n",
    "    You are an expert in AI Expert. Answer the question. \n",
    "    <Question>: {input}에 대해 쉽게 설명해주세요.\n",
    "    \"\"\")\n",
    "prompt"
   ]
  },
  {
   "cell_type": "code",
   "execution_count": 6,
   "id": "01e34911",
   "metadata": {},
   "outputs": [
    {
     "name": "stdout",
     "output_type": "stream",
     "text": [
      "client=<openai.resources.chat.completions.completions.Completions object at 0x0000022ED5C44530> async_client=<openai.resources.chat.completions.completions.AsyncCompletions object at 0x0000022ED5439D90> root_client=<openai.OpenAI object at 0x0000022ED29FF4A0> root_async_client=<openai.AsyncOpenAI object at 0x0000022ED5286030> model_name='meta-llama/llama-4-scout-17b-16e-instruct' temperature=0.7 model_kwargs={} openai_api_key=SecretStr('**********') openai_api_base='https://api.groq.com/openai/v1'\n"
     ]
    }
   ],
   "source": [
    "# Groq API를 사용하는 ChatOpenAI 인스턴스 생성\n",
    "llm = ChatOpenAI(\n",
    "    #api_key=OPENAI_API_KEY,\n",
    "    base_url=\"https://api.groq.com/openai/v1\",  # Groq API 엔드포인트\n",
    "    model=\"meta-llama/llama-4-scout-17b-16e-instruct\",\n",
    "    # model=\"mistral-saba-24b\",\n",
    "    temperature=0.7\n",
    ")\n",
    "print(llm)"
   ]
  },
  {
   "cell_type": "code",
   "execution_count": 7,
   "id": "95b32ea6",
   "metadata": {},
   "outputs": [
    {
     "name": "stdout",
     "output_type": "stream",
     "text": [
      "<class 'langchain_core.runnables.base.RunnableSequence'>\n"
     ]
    }
   ],
   "source": [
    "from langchain_core.output_parsers import StrOutputParser\n",
    "\n",
    "# chain 연결 (LCEL)     prompt + llm + outputparser\n",
    "output_parser = StrOutputParser()\n",
    "\n",
    "chain2 = prompt | llm | output_parser\n",
    "print(type(chain2))"
   ]
  },
  {
   "cell_type": "code",
   "execution_count": 8,
   "id": "2c0db146",
   "metadata": {},
   "outputs": [
    {
     "name": "stdout",
     "output_type": "stream",
     "text": [
      "<class 'str'>\n",
      "LangChain은 다양한 제품과 도구를 제공하여 개발자와 기업이 인공지능(AI) 및 언어 모델을 보다 쉽게 통합하고 활용할 수 있도록 지원합니다. LangChain의 주요 제품 중 하나가 LangServe입니다. 아래는 LangChain이 제공하는 몇 가지 주요 제품과 서비스에 대한 설명입니다.\n",
      "\n",
      "1. **LangServe**: \n",
      "   - **설명**: LangServe는 LangChain에서 제공하는 제품 중 하나로, 언어 모델의 배포 및 운영을 간소화하는 플랫폼입니다. LangServe를 사용하면 개발자와 기업은 언어 모델을 쉽게 배포하고, 관리하며, 확장할 수 있습니다. 이는 모델의 예측, 대화 관리, 보안 및 모니터링 등을 포함합니다.\n",
      "   - **기능**: LangServe는 모델의 효율적인 배포를 위한 API 제공, 자동화된 모델 업데이트, 모니터링 및 로깅 기능 등을 지원합니다. 이를 통해 사용자는 모델의 성능을 지속적으로 평가하고 개선할 수 있습니다.\n",
      "\n",
      "2. **LangChain 자체**:\n",
      "   - LangChain은 기본적으로 언어 모델을 통합하고 활용하기 위한 프레임워크입니다. 개발자가 언어 모델을 쉽게 호출하고, 체인처럼 연결하여 복잡한 작업을 수행할 수 있도록 설계되었습니다. LangChain은 다양한 언어 모델과의 통합을 지원하며, 사용자가 자신의 애플리케이션에 AI 기능을 통합할 수 있도록 돕습니다.\n",
      "\n",
      "3. **LangSmith**:\n",
      "   - **설명**: LangSmith는 LangChain 생태계의 또 다른 중요한 도구입니다. LangSmith는 개발자가 언어 모델 기반 애플리케이션을 개발, 테스트, 배포하는 과정을 지원하는 플랫폼입니다. \n",
      "   - **기능**: 여기에는 워크플로우 관리, 디버깅 툴, 데이터 관리 기능 등이 포함되어 개발자가 보다 효율적으로 애플리케이션을 구축할 수 있도록 지원합니다.\n",
      "\n",
      "4. **LangFusion** (정보가 제한되어 있을 수 있음):\n",
      "   - 구체적인 제품이나 서비스에 대해서는 LangChain의 공식 웹사이트나 최근 발표자료를 참조하는 것이 좋습니다.\n",
      "\n",
      "이러한 제품과 서비스를 통해 LangChain은 개발자와 기업이 AI 기술을 보다 쉽게 접근하고 활용할 수 있도록 지원하고 있습니다. 특히 LangServe와 같은 제품은 언어 모델의 실제 비즈니스 환경에서의 활용을 크게 촉진할 수 있는 도구로 평가받고 있습니다.\n"
     ]
    }
   ],
   "source": [
    "# chain 호출\n",
    "try:\n",
    "    result = chain2.invoke({\"input\": \"LangChain의 Products(제품)는 어떤 것들이 있나요? 예를 들어 LangServe 같은 Product가 있어\"})\n",
    "    print(type(result))\n",
    "    print(result)\n",
    "except Exception as e:\n",
    "    print(f\"오류 발생: {e}\")"
   ]
  }
 ],
 "metadata": {
  "kernelspec": {
   "display_name": "langchain-basic-kGdHTiMZ-py3.12",
   "language": "python",
   "name": "python3"
  },
  "language_info": {
   "codemirror_mode": {
    "name": "ipython",
    "version": 3
   },
   "file_extension": ".py",
   "mimetype": "text/x-python",
   "name": "python",
   "nbconvert_exporter": "python",
   "pygments_lexer": "ipython3",
   "version": "3.12.7"
  }
 },
 "nbformat": 4,
 "nbformat_minor": 5
}
