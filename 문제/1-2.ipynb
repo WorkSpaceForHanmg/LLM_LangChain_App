{
 "cells": [
  {
   "cell_type": "code",
   "execution_count": 10,
   "id": "9cfe076b",
   "metadata": {},
   "outputs": [
    {
     "name": "stdout",
     "output_type": "stream",
     "text": [
      "제목: 슈퍼스타 감사용\n",
      "\n",
      "줄거리: \n",
      "슈퍼스타 감사용은 KBO 리그에서 7년 연속 꼴찌를 기록한 삼성 라이온즈의 감독이 된 감사용의 이야기를 다룹니다. \n",
      "그는 야구계의 명문가 출신이지만, 그의 지도력과 리더십은 팀을 반등시키는데 어려움을 겪습니다. \n",
      "하지만 그는 자신의 코칭 스타일과 팀워크를 통해 팀을 변화시키고, 승리를 향한 감사용의 열정이 야구팬들에게 웃음과 감동을 선사합니다.\n"
     ]
    }
   ],
   "source": [
    "import os\n",
    "from dotenv import load_dotenv\n",
    "from langchain_openai import ChatOpenAI \n",
    "from langchain_core.prompts import ChatPromptTemplate\n",
    "from langchain_core.output_parsers import StrOutputParser\n",
    "\n",
    "load_dotenv()\n",
    "OPENAI_API_KEY = os.getenv(\"OPENAI_API_KEY\")\n",
    "\n",
    "\n",
    "# Step 1: 사용자가 입력한 장르에 따라 영화 1편 추천\n",
    "prompt1 = ChatPromptTemplate.from_template(\n",
    "    \"\"\"\n",
    "    {genre} 장르에서 추천할 영화를 한 편 알려주세요.\n",
    "    \n",
    "    \"\"\")\n",
    "\n",
    "\n",
    "# Step 2: 추천된 영화의 줄거리를 요약\n",
    "prompt2 = ChatPromptTemplate.from_template(\n",
    "    \"\"\"\n",
    "    {movie} 추전한 영화의 제목을 먼저 알려주시고, 줄을 바꾸어서 영화의 줄거리를 3문장으로 요약해 주세요.\n",
    "    [출력 형식]\n",
    "    제목: {movie}\n",
    "    줄거리: \n",
    "    (첫 번째 문장)\n",
    "    (두 번째 문장)\n",
    "    (세 번째 문장)\n",
    "    \"\"\"\n",
    "    )\n",
    "\n",
    "# OpenAI 모델 사용\n",
    "llm = ChatOpenAI(\n",
    "    base_url=\"https://api.groq.com/openai/v1\",  # Groq API 엔드포인트\n",
    "    model=\"meta-llama/llama-4-scout-17b-16e-instruct\",\n",
    "    temperature=0.7\n",
    ")\n",
    "\n",
    "# 체인 1: 영화 추천 (입력: 장르 → 출력: 영화 제목)\n",
    "chain1 = prompt1 | llm | StrOutputParser()\n",
    "\n",
    "# 체인 2: 줄거리 요약 (입력: 영화 제목 → 출력: 줄거리)\n",
    "try:\n",
    "    chain2 = (\n",
    "        {\"movie\": chain1}  # chain1의 출력을 movie 변수로 전달\n",
    "        | prompt2\n",
    "        | llm\n",
    "        | StrOutputParser()\n",
    "    )\n",
    "\n",
    "    # 실행: \"SF\" 장르의 영화 추천 및 줄거리 요약\n",
    "    response = chain2.invoke({\"genre\": \"코미디\"})\n",
    "    print(response)  \n",
    "except Exception as e:\n",
    "    print(f\"에러 발생 : {e}\")"
   ]
  }
 ],
 "metadata": {
  "kernelspec": {
   "display_name": "langchain-basic-kGdHTiMZ-py3.12",
   "language": "python",
   "name": "python3"
  },
  "language_info": {
   "codemirror_mode": {
    "name": "ipython",
    "version": 3
   },
   "file_extension": ".py",
   "mimetype": "text/x-python",
   "name": "python",
   "nbconvert_exporter": "python",
   "pygments_lexer": "ipython3",
   "version": "3.12.7"
  }
 },
 "nbformat": 4,
 "nbformat_minor": 5
}
