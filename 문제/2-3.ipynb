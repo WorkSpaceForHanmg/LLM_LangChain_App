{
 "cells": [
  {
   "cell_type": "code",
   "execution_count": 1,
   "id": "3ff02ce6",
   "metadata": {},
   "outputs": [
    {
     "name": "stdout",
     "output_type": "stream",
     "text": [
      "\n",
      "=== 자기소개 정보 추출 결과 ===\n",
      "이름: 김민수\n",
      "나이: 22\n",
      "전공: 컴퓨터공학\n",
      "취미: 게임하기, 영화보기, 코딩\n",
      "목표: 훌륭한 개발자가 되는 것\n"
     ]
    }
   ],
   "source": [
    "from langchain_openai import ChatOpenAI\n",
    "from langchain_core.prompts import ChatPromptTemplate\n",
    "from langchain.output_parsers import PydanticOutputParser\n",
    "\n",
    "from pydantic import BaseModel, Field\n",
    "from typing import List\n",
    "\n",
    "# === Pydantic 모델 정의 ===\n",
    "class StudentIntro(BaseModel):\n",
    "    name: str = Field(description=\"학생의 이름\")\n",
    "    age: int = Field(description=\"학생의 나이 (숫자)\")\n",
    "    major: str = Field(description=\"전공\")\n",
    "    hobbies: List[str] = Field(description=\"취미 목록 (문자열 리스트)\")\n",
    "    goal: str = Field(description=\"장기적인 목표 또는 꿈\")\n",
    "\n",
    "# 출력 파서\n",
    "parser = PydanticOutputParser(pydantic_object=StudentIntro)\n",
    "\n",
    "# === 프롬프트 템플릿 ===\n",
    "template = \"\"\"\n",
    "다음 학생의 자기소개를 읽고, 이름, 나이, 전공, 취미, 목표를 각각 추출해 주세요.\n",
    "각 항목은 다음 형식에 맞게 출력해 주세요:\n",
    "\n",
    "{format_instructions}\n",
    "\n",
    "자기소개:\n",
    "{text}\n",
    "\"\"\"\n",
    "\n",
    "# 프롬프트 구성\n",
    "prompt = ChatPromptTemplate.from_template(template)\n",
    "prompt = prompt.partial(format_instructions=parser.get_format_instructions())\n",
    "\n",
    "# === 모델 초기화 ===\n",
    "model = ChatOpenAI(\n",
    "    base_url=\"https://api.groq.com/openai/v1\",\n",
    "    model=\"meta-llama/llama-4-scout-17b-16e-instruct\",\n",
    "    temperature=0\n",
    ")\n",
    "\n",
    "# === 테스트 입력 ===\n",
    "intro_text = (\n",
    "    \"안녕하세요! 저는 김민수이고 22살입니다. 컴퓨터공학을 전공하고 있어요. \"\n",
    "    \"취미로는 게임하기, 영화보기, 코딩을 좋아합니다. \"\n",
    "    \"앞으로 훌륭한 개발자가 되는 것이 목표입니다.\"\n",
    ")\n",
    "\n",
    "# === 체인 구성 및 실행 ===\n",
    "chain = prompt | model | parser\n",
    "output = chain.invoke({\"text\": intro_text})\n",
    "\n",
    "# === 출력 결과 ===\n",
    "print(\"\\n=== 자기소개 정보 추출 결과 ===\")\n",
    "print(f\"이름: {output.name}\")\n",
    "print(f\"나이: {output.age}\")\n",
    "print(f\"전공: {output.major}\")\n",
    "print(f\"취미: {', '.join(output.hobbies)}\")\n",
    "print(f\"목표: {output.goal}\")\n"
   ]
  }
 ],
 "metadata": {
  "kernelspec": {
   "display_name": "langchain-basic-kGdHTiMZ-py3.12",
   "language": "python",
   "name": "python3"
  },
  "language_info": {
   "codemirror_mode": {
    "name": "ipython",
    "version": 3
   },
   "file_extension": ".py",
   "mimetype": "text/x-python",
   "name": "python",
   "nbconvert_exporter": "python",
   "pygments_lexer": "ipython3",
   "version": "3.12.7"
  }
 },
 "nbformat": 4,
 "nbformat_minor": 5
}
