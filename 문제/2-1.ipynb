{
 "cells": [
  {
   "cell_type": "code",
   "execution_count": 1,
   "id": "ac10ba57",
   "metadata": {},
   "outputs": [
    {
     "name": "stdout",
     "output_type": "stream",
     "text": [
      "gs\n"
     ]
    }
   ],
   "source": [
    "import os\n",
    "from dotenv import load_dotenv\n",
    "\n",
    "load_dotenv()\n",
    "OPENAI_API_KEY = os.getenv(\"OPENAI_API_KEY\")\n",
    "print(OPENAI_API_KEY[:2])"
   ]
  },
  {
   "cell_type": "code",
   "execution_count": 5,
   "id": "d091ec49",
   "metadata": {},
   "outputs": [
    {
     "name": "stdout",
     "output_type": "stream",
     "text": [
      "{'format_instructions': 'Your response should be a list of comma separated '\n",
      "                        'values, eg: `foo, bar, baz` or `foo,bar,baz`'}\n",
      "\n",
      "'운동' 관련 한국의 유명한 장소 또는 활동 추천:\n",
      "- Here are 5 famous Korean places or activities related to exercise: \n",
      "- 한라산 등산\n",
      "- 부산 해운대 해수욕장\n",
      "- 경주 보문단지 마라톤\n",
      "- 서울 올림픽공원\n",
      "- 파주 MTB파크\n",
      "\n",
      "결과가 './data/korea_운동_recommendations.csv' 파일로 저장되었습니다.\n"
     ]
    }
   ],
   "source": [
    "\n",
    "import csv\n",
    "from pprint import pprint\n",
    "from langchain_core.output_parsers import CommaSeparatedListOutputParser\n",
    "from langchain_core.prompts import PromptTemplate\n",
    "from langchain_openai import ChatOpenAI\n",
    "\n",
    "\n",
    "# 관심 분야를 코드에 직접 명시\n",
    "subject = \"운동\"  # 원하는 분야를 여기서 바꾸세요 (예: 음식, 스포츠, 영화 등)\n",
    "\n",
    "# 콤마 구분 리스트 출력 파서 초기화\n",
    "output_parser = CommaSeparatedListOutputParser()\n",
    "format_instructions = output_parser.get_format_instructions()\n",
    "\n",
    "# 프롬프트 템플릿 설정 (한글 및 한국 관련 지시 포함)\n",
    "prompt = PromptTemplate(\n",
    "    template=\"사용자가 관심 있어 하는 분야는 '{subject}'입니다. 이와 관련된 한국의 유명한 장소나 활동 5가지를 추천해주세요.\\n{format_instructions}\",\n",
    "    input_variables=[\"subject\"],\n",
    "    partial_variables={\"format_instructions\": format_instructions},\n",
    ")\n",
    "\n",
    "pprint(prompt.partial_variables)\n",
    "\n",
    "# Groq API 모델 설정\n",
    "model = ChatOpenAI(\n",
    "    base_url=\"https://api.groq.com/openai/v1\",\n",
    "    model=\"meta-llama/llama-4-scout-17b-16e-instruct\",\n",
    "    temperature=0\n",
    ")\n",
    "\n",
    "# 체인 생성\n",
    "chain = prompt | model | output_parser\n",
    "\n",
    "# 체인 실행\n",
    "result = chain.invoke({\"subject\": subject})\n",
    "\n",
    "# 결과 출력\n",
    "print(f\"\\n'{subject}' 관련 한국의 유명한 장소 또는 활동 추천:\")\n",
    "for item in result:\n",
    "    print(f\"- {item}\")\n",
    "\n",
    "# 결과를 CSV로 저장\n",
    "csv_filename = f\"./data/korea_{subject}_recommendations.csv\"\n",
    "os.makedirs(os.path.dirname(csv_filename), exist_ok=True)\n",
    "\n",
    "with open(csv_filename, \"w\", newline=\"\", encoding=\"utf-8\") as file:\n",
    "    writer = csv.writer(file)\n",
    "    writer.writerow([\"추천 항목\"])\n",
    "    for item in result:\n",
    "        writer.writerow([item])\n",
    "\n",
    "print(f\"\\n결과가 '{csv_filename}' 파일로 저장되었습니다.\")\n"
   ]
  }
 ],
 "metadata": {
  "kernelspec": {
   "display_name": "langchain-basic-kGdHTiMZ-py3.12",
   "language": "python",
   "name": "python3"
  },
  "language_info": {
   "codemirror_mode": {
    "name": "ipython",
    "version": 3
   },
   "file_extension": ".py",
   "mimetype": "text/x-python",
   "name": "python",
   "nbconvert_exporter": "python",
   "pygments_lexer": "ipython3",
   "version": "3.12.7"
  }
 },
 "nbformat": 4,
 "nbformat_minor": 5
}
