{
 "cells": [
  {
   "cell_type": "code",
   "execution_count": 3,
   "id": "8dd7cb40",
   "metadata": {},
   "outputs": [
    {
     "name": "stdout",
     "output_type": "stream",
     "text": [
      "출력 형식 지시사항:\n",
      "The output should be a markdown code snippet formatted in the following schema, including the leading and trailing \"```json\" and \"```\":\n",
      "\n",
      "```json\n",
      "{\n",
      "\t\"destination\": string  // 여행한 장소 또는 도시명\n",
      "\t\"duration\": string  // 여행 기간 (예: '2박 3일')\n",
      "\t\"budget\": string  // 전체 여행 예산 또는 비용 (예: '30만원')\n",
      "\t\"rating\": string  // 5점 만점에서 추천도 (숫자 1~5 중 하나)\n",
      "\t\"activities\": string  // 주요 활동 목록 (문자열 리스트)\n",
      "}\n",
      "```\n",
      "\n",
      "===== 여행 후기 분석 결과 =====\n",
      "{'activities': '해운대에서 바다구경, 자갈치시장에서 회 먹기, 감천문화마을 구경',\n",
      " 'budget': '100만원',\n",
      " 'destination': '부산',\n",
      " 'duration': '2박3일',\n",
      " 'rating': '4'}\n"
     ]
    }
   ],
   "source": [
    "from langchain_openai import ChatOpenAI\n",
    "from langchain_core.prompts import ChatPromptTemplate\n",
    "from langchain.output_parsers import StructuredOutputParser, ResponseSchema\n",
    "from pprint import pprint\n",
    "\n",
    "# 출력 구조 정의 (여행지, 기간, 예산, 평점, 활동)\n",
    "response_schemas = [\n",
    "    ResponseSchema(name=\"destination\", description=\"여행한 장소 또는 도시명\"),\n",
    "    ResponseSchema(name=\"duration\", description=\"여행 기간 (예: '2박 3일')\"),\n",
    "    ResponseSchema(name=\"budget\", description=\"전체 여행 예산 또는 비용 (예: '30만원')\"),\n",
    "    ResponseSchema(name=\"rating\", description=\"5점 만점에서 추천도 (숫자 1~5 중 하나)\"),\n",
    "    ResponseSchema(name=\"activities\", description=\"주요 활동 목록 (문자열 리스트)\")\n",
    "]\n",
    "\n",
    "# 파서 초기화\n",
    "parser = StructuredOutputParser.from_response_schemas(response_schemas)\n",
    "format_instructions = parser.get_format_instructions()\n",
    "\n",
    "print(\"출력 형식 지시사항:\")\n",
    "print(format_instructions)\n",
    "\n",
    "# 프롬프트 템플릿\n",
    "template = \"\"\"\n",
    "다음 여행 후기를 분석해 아래 정보를 추출하세요.\n",
    "\n",
    "여행 후기:\n",
    "{review}\n",
    "\n",
    "{format_instructions}\n",
    "\"\"\"\n",
    "\n",
    "# 프롬프트 구성\n",
    "prompt = ChatPromptTemplate.from_template(template)\n",
    "prompt = prompt.partial(format_instructions=format_instructions)\n",
    "\n",
    "# 모델 설정\n",
    "model = ChatOpenAI(\n",
    "    base_url=\"https://api.groq.com/openai/v1\",\n",
    "    model=\"meta-llama/llama-4-scout-17b-16e-instruct\",\n",
    "    temperature=0.5\n",
    ")\n",
    "\n",
    "# 테스트 입력 (여행 후기)\n",
    "review = \"\"\"\n",
    "지난 주에 부산으로 2박 3일 여행을 다녀왔어요. 총 100만원 정도 썼는데 해운대에서 바다구경하고, \n",
    "자갈치시장에서 회 먹고, 감천문화마을도 구경했어요. 정말 만족스러운 여행이었습니다. \n",
    "5점 만점에 4점 정도 줄 수 있을 것 같아요.\n",
    "\"\"\"\n",
    "\n",
    "# 체인 실행\n",
    "chain = prompt | model | parser\n",
    "output = chain.invoke({\"review\": review})\n",
    "\n",
    "# 결과 출력\n",
    "print(\"\\n===== 여행 후기 분석 결과 =====\")\n",
    "pprint(output)\n"
   ]
  }
 ],
 "metadata": {
  "kernelspec": {
   "display_name": "langchain-basic-kGdHTiMZ-py3.12",
   "language": "python",
   "name": "python3"
  },
  "language_info": {
   "codemirror_mode": {
    "name": "ipython",
    "version": 3
   },
   "file_extension": ".py",
   "mimetype": "text/x-python",
   "name": "python",
   "nbconvert_exporter": "python",
   "pygments_lexer": "ipython3",
   "version": "3.12.7"
  }
 },
 "nbformat": 4,
 "nbformat_minor": 5
}
