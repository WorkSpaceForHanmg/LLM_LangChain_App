{
 "cells": [
  {
   "cell_type": "code",
   "execution_count": 2,
   "id": "b68eab6f",
   "metadata": {},
   "outputs": [
    {
     "name": "stdout",
     "output_type": "stream",
     "text": [
      "Hello LangChain\n"
     ]
    }
   ],
   "source": [
    "print('Hello LangChain')"
   ]
  },
  {
   "cell_type": "code",
   "execution_count": 3,
   "id": "b429d1dc",
   "metadata": {},
   "outputs": [],
   "source": [
    "import os\n",
    "from dotenv import load_dotenv\n",
    "from langchain_core.prompts import ChatPromptTemplate\n",
    "from langchain_openai import ChatOpenAI \n",
    "\n",
    "\n",
    "load_dotenv()\n",
    "OPENAI_API_KEY = os.getenv(\"OPENAI_API_KEY\")\n",
    "#print(OPENAI_API_KEY)"
   ]
  },
  {
   "cell_type": "code",
   "execution_count": 4,
   "id": "6698dc29",
   "metadata": {},
   "outputs": [
    {
     "name": "stdout",
     "output_type": "stream",
     "text": [
      "input_variables=['input'] input_types={} partial_variables={} messages=[SystemMessagePromptTemplate(prompt=PromptTemplate(input_variables=[], input_types={}, partial_variables={}, template='당신은 개발자입니다.'), additional_kwargs={}), HumanMessagePromptTemplate(prompt=PromptTemplate(input_variables=['input'], input_types={}, partial_variables={}, template='{input}'), additional_kwargs={})]\n"
     ]
    }
   ],
   "source": [
    "# prompt\n",
    "prompt = ChatPromptTemplate.from_messages(\n",
    "    [ (\"system\", \"당신은 개발자입니다.\") , \n",
    "     (\"user\", \"{input}\") ]\n",
    ")\n",
    "print(prompt)\n",
    "\n",
    "prompt_text = prompt.format(input=\"LangServe은 무엇인가요? 자세하게 설명해주세요\")"
   ]
  },
  {
   "cell_type": "code",
   "execution_count": 5,
   "id": "179f3ecc",
   "metadata": {},
   "outputs": [
    {
     "name": "stdout",
     "output_type": "stream",
     "text": [
      "client=<openai.resources.chat.completions.completions.Completions object at 0x000001C4C9176F00> async_client=<openai.resources.chat.completions.completions.AsyncCompletions object at 0x000001C4C968A780> root_client=<openai.OpenAI object at 0x000001C4C9050200> root_async_client=<openai.AsyncOpenAI object at 0x000001C4C9235CA0> model_name='meta-llama/llama-4-scout-17b-16e-instruct' temperature=0.7 model_kwargs={} openai_api_key=SecretStr('**********') openai_api_base='https://api.groq.com/openai/v1'\n"
     ]
    }
   ],
   "source": [
    "# Groq API를 사용하는 ChatOpenAI 인스턴스 생성\n",
    "llm = ChatOpenAI(\n",
    "    #api_key=OPENAI_API_KEY,\n",
    "    base_url=\"https://api.groq.com/openai/v1\",  # Groq API 엔드포인트\n",
    "    model=\"meta-llama/llama-4-scout-17b-16e-instruct\",\n",
    "    # model=\"mistral-saba-24b\",\n",
    "    temperature=0.7\n",
    ")\n",
    "print(llm)"
   ]
  },
  {
   "cell_type": "code",
   "execution_count": 6,
   "id": "df643648",
   "metadata": {},
   "outputs": [
    {
     "name": "stdout",
     "output_type": "stream",
     "text": [
      "<class 'langchain_core.messages.ai.AIMessage'>\n",
      "content='LangServe는 LangChain을 기반으로 구축된 오픈 소스 라이브러리로서, 자연어 처리(NLP) 애플리케이션을 쉽게 배포하고 관리할 수 있도록 설계되었습니다. LangChain은 다양한 자연어 처리 모델과 기술을 통합하여 보다 쉽게 NLP 애플리케이션을 개발할 수 있도록 지원하는 프레임워크입니다.\\n\\nLangServe의 주요 기능은 다음과 같습니다:\\n\\n1. **모델 서버**: LangServe는 다양한 NLP 모델을 서버에 배포하고 관리할 수 있는 기능을 제공합니다. 이를 통해 개발자는 모델을 쉽게 배포하고, 여러 애플리케이션에서 모델을 공유하고 사용할 수 있습니다.\\n\\n2. **API 제공**: LangServe는 모델을 API로 노출하여 다른 애플리케이션에서 쉽게 사용할 수 있도록 합니다. 이는 마이크로서비스 아키텍처에서 특히 유용합니다.\\n\\n3. **모델 관리**: LangServe는 모델의 버전 관리를 지원합니다. 이를 통해 모델의 업데이트나 변경 사항이 있을 경우, 이전 버전으로 롤백하거나 새로운 버전을 배포하는 것이 쉬워집니다.\\n\\n4. **모니터링 및 로깅**: LangServe는 모델의 성능을 모니터링하고 로그를 기록하는 기능을 제공합니다. 이를 통해 모델의 성능을 추적하고, 문제가 발생했을 때 빠르게 진단하고 해결할 수 있습니다.\\n\\n5. **확장성**: LangServe는 수평 확장성을 지원합니다. 즉, 수요가 증가하면 서버를 쉽게 추가하여 처리량을 늘릴 수 있습니다.\\n\\n6. **다양한 모델 지원**: LangServe는 다양한 NLP 모델과 프레임워크를 지원합니다. 예를 들어, Hugging Face의 Transformers, spaCy, Stanford CoreNLP 등 다양한 모델과 라이브러리를 사용할 수 있습니다.\\n\\nLangServe를 사용하는 주요 이점은 다음과 같습니다:\\n\\n- **빠른 배포**: LangServe를 사용하면 NLP 모델을 빠르게 배포하고 관리할 수 있습니다.\\n- **쉬운 모델 공유**: LangServe는 팀 내에서 또는 외부 파트너와 모델을 쉽게 공유할 수 있는 방법을 제공합니다.\\n- **유연성**: 다양한 모델과 라이브러리를 지원하므로, 개발자는 자신의 필요에 가장 적합한 도구를 선택할 수 있습니다.\\n\\n결론적으로, LangServe는 자연어 처리 애플리케이션을 개발하고 배포하는 과정을 간소화하는 강력한 도구입니다. 개발자가 NLP 모델을 더 쉽게 관리하고 확장할 수 있도록 지원하여, 보다 효율적인 애플리케이션 개발과 운영을 가능하게 합니다.' additional_kwargs={'refusal': None} response_metadata={'token_usage': {'completion_tokens': 476, 'prompt_tokens': 30, 'total_tokens': 506, 'completion_tokens_details': None, 'prompt_tokens_details': None, 'queue_time': 2.460914881, 'prompt_time': 0.003253317, 'completion_time': 1.187136897, 'total_time': 1.190390214}, 'model_name': 'meta-llama/llama-4-scout-17b-16e-instruct', 'system_fingerprint': 'fp_79da0e0073', 'id': 'chatcmpl-378bbe7d-b681-42ac-99e7-75a5034bc0cb', 'service_tier': None, 'finish_reason': 'stop', 'logprobs': None} id='run--44a3b8b8-dce3-4891-9160-49530819f0f8-0' usage_metadata={'input_tokens': 30, 'output_tokens': 476, 'total_tokens': 506, 'input_token_details': {}, 'output_token_details': {}}\n",
      "응답: LangServe는 LangChain을 기반으로 구축된 오픈 소스 라이브러리로서, 자연어 처리(NLP) 애플리케이션을 쉽게 배포하고 관리할 수 있도록 설계되었습니다. LangChain은 다양한 자연어 처리 모델과 기술을 통합하여 보다 쉽게 NLP 애플리케이션을 개발할 수 있도록 지원하는 프레임워크입니다.\n",
      "\n",
      "LangServe의 주요 기능은 다음과 같습니다:\n",
      "\n",
      "1. **모델 서버**: LangServe는 다양한 NLP 모델을 서버에 배포하고 관리할 수 있는 기능을 제공합니다. 이를 통해 개발자는 모델을 쉽게 배포하고, 여러 애플리케이션에서 모델을 공유하고 사용할 수 있습니다.\n",
      "\n",
      "2. **API 제공**: LangServe는 모델을 API로 노출하여 다른 애플리케이션에서 쉽게 사용할 수 있도록 합니다. 이는 마이크로서비스 아키텍처에서 특히 유용합니다.\n",
      "\n",
      "3. **모델 관리**: LangServe는 모델의 버전 관리를 지원합니다. 이를 통해 모델의 업데이트나 변경 사항이 있을 경우, 이전 버전으로 롤백하거나 새로운 버전을 배포하는 것이 쉬워집니다.\n",
      "\n",
      "4. **모니터링 및 로깅**: LangServe는 모델의 성능을 모니터링하고 로그를 기록하는 기능을 제공합니다. 이를 통해 모델의 성능을 추적하고, 문제가 발생했을 때 빠르게 진단하고 해결할 수 있습니다.\n",
      "\n",
      "5. **확장성**: LangServe는 수평 확장성을 지원합니다. 즉, 수요가 증가하면 서버를 쉽게 추가하여 처리량을 늘릴 수 있습니다.\n",
      "\n",
      "6. **다양한 모델 지원**: LangServe는 다양한 NLP 모델과 프레임워크를 지원합니다. 예를 들어, Hugging Face의 Transformers, spaCy, Stanford CoreNLP 등 다양한 모델과 라이브러리를 사용할 수 있습니다.\n",
      "\n",
      "LangServe를 사용하는 주요 이점은 다음과 같습니다:\n",
      "\n",
      "- **빠른 배포**: LangServe를 사용하면 NLP 모델을 빠르게 배포하고 관리할 수 있습니다.\n",
      "- **쉬운 모델 공유**: LangServe는 팀 내에서 또는 외부 파트너와 모델을 쉽게 공유할 수 있는 방법을 제공합니다.\n",
      "- **유연성**: 다양한 모델과 라이브러리를 지원하므로, 개발자는 자신의 필요에 가장 적합한 도구를 선택할 수 있습니다.\n",
      "\n",
      "결론적으로, LangServe는 자연어 처리 애플리케이션을 개발하고 배포하는 과정을 간소화하는 강력한 도구입니다. 개발자가 NLP 모델을 더 쉽게 관리하고 확장할 수 있도록 지원하여, 보다 효율적인 애플리케이션 개발과 운영을 가능하게 합니다.\n"
     ]
    }
   ],
   "source": [
    "try:\n",
    "    response = llm.invoke(prompt_text)\n",
    "    print(type(response))\n",
    "    print(response)\n",
    "    print(\"응답:\", response.content)\n",
    "except Exception as e:\n",
    "    print(f\"오류 발생: {e}\")"
   ]
  },
  {
   "cell_type": "markdown",
   "id": "cece72a6",
   "metadata": {},
   "source": [
    "### LCEL \n",
    "+ Prompt + LLM을 Chain으로 연결하기"
   ]
  },
  {
   "cell_type": "code",
   "execution_count": 7,
   "id": "af8e1ea6",
   "metadata": {},
   "outputs": [
    {
     "data": {
      "text/plain": [
       "PromptTemplate(input_variables=['input'], input_types={}, partial_variables={}, template='\\n    You are an expert in AI Expert. Answer the question. \\n    <Question>: {input}에 대해 쉽게 설명해주세요.\\n    ')"
      ]
     },
     "execution_count": 7,
     "metadata": {},
     "output_type": "execute_result"
    }
   ],
   "source": [
    "from langchain_core.prompts import PromptTemplate\n",
    "\n",
    "prompt = PromptTemplate.from_template(\n",
    "    \"\"\"\n",
    "    You are an expert in AI Expert. Answer the question. \n",
    "    <Question>: {input}에 대해 쉽게 설명해주세요.\n",
    "    \"\"\")\n",
    "prompt"
   ]
  },
  {
   "cell_type": "code",
   "execution_count": 8,
   "id": "79bfe695",
   "metadata": {},
   "outputs": [
    {
     "name": "stdout",
     "output_type": "stream",
     "text": [
      "<class 'langchain_core.runnables.base.RunnableSequence'>\n"
     ]
    }
   ],
   "source": [
    "# chain 연결 (LCEL) prompt + llm 연결결\n",
    "chain = prompt | llm\n",
    "print(type(chain))"
   ]
  },
  {
   "cell_type": "markdown",
   "id": "53b4c324",
   "metadata": {},
   "source": [
    "### LCEL \n",
    "+ Prompt + LLM + OutputParser을 Chain으로 연결하기"
   ]
  },
  {
   "cell_type": "code",
   "execution_count": 9,
   "id": "6bb9ced0",
   "metadata": {},
   "outputs": [
    {
     "name": "stdout",
     "output_type": "stream",
     "text": [
      "<class 'langchain_core.runnables.base.RunnableSequence'>\n"
     ]
    }
   ],
   "source": [
    "from langchain_core.output_parsers import StrOutputParser\n",
    "\n",
    "# chain 연결 (LCEL)     prompt + llm + outputparser\n",
    "output_parser = StrOutputParser()\n",
    "\n",
    "chain2 = prompt | llm | output_parser\n",
    "print(type(chain2))"
   ]
  },
  {
   "cell_type": "code",
   "execution_count": 10,
   "id": "66da60e4",
   "metadata": {},
   "outputs": [
    {
     "name": "stdout",
     "output_type": "stream",
     "text": [
      "<class 'str'>\n",
      "LangChain은 다양한 AI 관련 제품을 제공하는 회사입니다. LangChain의 주요 제품은 다음과 같습니다:\n",
      "\n",
      "1. **LangServe**: LangServe는 LangChain에서 제공하는 핵심 제품 중 하나입니다. 이것은 LLM(Large Language Model) 기반의 API를 쉽게 구축하고 배포할 수 있도록 지원하는 플랫폼입니다. LangServe를 사용하면 개발자들이 언어 모델을 활용하여 자연어 처리 작업을 보다 효율적으로 수행할 수 있습니다.\n",
      "\n",
      "2. **LangChain SDK**: LangChain SDK는 개발자들이 LangChain의 기능을 활용하여 자신만의 애플리케이션을 구축할 수 있도록 지원하는 소프트웨어 개발 키트입니다. 이 SDK를 통해 개발자들은 다양한 언어 모델과 자연어 처리 기능을 쉽게 통합할 수 있습니다.\n",
      "\n",
      "3. **LangChain Studio**: LangChain Studio는 LangChain에서 제공하는 또 다른 중요한 제품입니다. 이것은 개발자들이 LangChain 기반의 애플리케이션을 보다 쉽게 개발하고 테스트할 수 있도록 지원하는 통합 개발 환경(IDE)입니다.\n",
      "\n",
      "이러한 제품들은 LangChain이 목표로 하는 개방적이고 확장 가능한 AI 생태계를 구축하는 데 중요한 역할을 합니다. LangChain의 제품들은 개발자들이 AI 기술을 보다 쉽게 접근하고 활용할 수 있도록 설계되었습니다.\n",
      "\n",
      "특히, LangServe는 LangChain 제품군 중에서 매우 중요한 위치를 차지하고 있습니다. LangServe를 통해 사용자는 사전에 구축된 다양한 언어 모델을 활용할 수 있으며, 이를 통해 자연어 이해, 자연어 생성, 대화형 AI 등 다양한 자연어 처리 작업을 보다 효율적으로 수행할 수 있습니다.\n",
      "\n",
      "LangChain의 이러한 제품들은 기업이나 개발자들이 AI 기술을 활용하여 혁신적인 서비스를 개발하고, 자연어 처리 분야에서 효율성과 효과를 극대화할 수 있도록 지원합니다.\n"
     ]
    }
   ],
   "source": [
    "# chain 호출\n",
    "try:\n",
    "    result = chain2.invoke({\"input\": \"LangChain의 Products(제품)는 어떤 것들이 있나요? 예를 들어 LangServe 같은 Product가 있어\"})\n",
    "    print(type(result))\n",
    "    print(result)\n",
    "except Exception as e:\n",
    "    print(f\"오류 발생: {e}\")"
   ]
  },
  {
   "cell_type": "markdown",
   "id": "1bda611b",
   "metadata": {},
   "source": [
    "### Runnable의 stream() 함수 호출"
   ]
  },
  {
   "cell_type": "code",
   "execution_count": null,
   "id": "9e31b4c9",
   "metadata": {},
   "outputs": [],
   "source": [
    "# 스트리밍 출력을 위한 요청\n",
    "try:\n",
    "    answer = chain2.stream({\"input\": \"인공지능 모델의 학습 원리를 자세하게 설명해 주세요.\"})\n",
    "    \n",
    "    # 스트리밍 출력\n",
    "    # print(answer)\n",
    "    for token in answer:\n",
    "        # 스트림에서 받은 데이터의 내용을 출력합니다. 줄바꿈 없이 이어서 출력하고, 버퍼를 즉시 비웁니다.\n",
    "        print(token, end=\"\", flush=True)\n",
    "    \n",
    "except Exception as e:\n",
    "    print(f\"오류 발생 : {e}\")\n",
    "\n"
   ]
  },
  {
   "cell_type": "markdown",
   "id": "4e837313",
   "metadata": {},
   "source": [
    "### Multi Chain\n",
    "* 첫번째 Chain의 출력이, 두번째 Chain의 입력이 된다.\n",
    "* 두개의 Chain과 Prompt + OutputParser를 LCEL로 연결하기"
   ]
  },
  {
   "cell_type": "code",
   "execution_count": null,
   "id": "1137c222",
   "metadata": {},
   "outputs": [],
   "source": [
    "from langchain_core.prompts import ChatPromptTemplate\n",
    "from langchain_openai import ChatOpenAI\n",
    "from langchain_core.output_parsers import StrOutputParser\n",
    "\n",
    "# Step 1: 사용자가 입력한 장르에 따라 영화 추천\n",
    "prompt1 = ChatPromptTemplate.from_template(\"{genre} 장르에서 추천할 만한 영화를 한 편 알려주세요.\")\n",
    "\n",
    "# Step 2: 추천된 영화의 줄거리를 요약\n",
    "prompt2 = ChatPromptTemplate.from_template(\"{movie} 추전한 영화의 제목을 먼저 알려주시고, 줄을 바꾸어서 영화의 줄거리를 3문장으로 요약해 주세요.\")\n",
    "\n",
    "# OpenAI 모델 사용\n",
    "llm = ChatOpenAI(\n",
    "    #api_key=OPENAI_API_KEY,\n",
    "    base_url=\"https://api.groq.com/openai/v1\",  # Groq API 엔드포인트\n",
    "    model=\"meta-llama/llama-4-scout-17b-16e-instruct\",\n",
    "    # model=\"mistral-saba-24b\",\n",
    "    temperature=0.7\n",
    ")\n",
    "\n",
    "# 체인 1: 영화 추천 (입력: 장르 → 출력: 영화 제목)\n",
    "chain1 = prompt1 | llm | StrOutputParser()"
   ]
  }
 ],
 "metadata": {
  "kernelspec": {
   "display_name": "langchain-basic-kGdHTiMZ-py3.12",
   "language": "python",
   "name": "python3"
  },
  "language_info": {
   "codemirror_mode": {
    "name": "ipython",
    "version": 3
   },
   "file_extension": ".py",
   "mimetype": "text/x-python",
   "name": "python",
   "nbconvert_exporter": "python",
   "pygments_lexer": "ipython3",
   "version": "3.12.7"
  }
 },
 "nbformat": 4,
 "nbformat_minor": 5
}
