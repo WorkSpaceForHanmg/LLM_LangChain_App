{
 "cells": [
  {
   "cell_type": "code",
   "execution_count": 1,
   "id": "b68eab6f",
   "metadata": {},
   "outputs": [
    {
     "name": "stdout",
     "output_type": "stream",
     "text": [
      "Hello LangChain\n"
     ]
    }
   ],
   "source": [
    "print('Hello LangChain')"
   ]
  },
  {
   "cell_type": "code",
   "execution_count": 3,
   "id": "b429d1dc",
   "metadata": {},
   "outputs": [],
   "source": [
    "import os\n",
    "from dotenv import load_dotenv\n",
    "from langchain_core.prompts import ChatPromptTemplate\n",
    "from langchain_openai import ChatOpenAI \n",
    "\n",
    "\n",
    "load_dotenv()\n",
    "OPENAI_API_KEY = os.getenv(\"OPENAI_API_KEY\")\n",
    "#print(OPENAI_API_KEY)"
   ]
  },
  {
   "cell_type": "code",
   "execution_count": 4,
   "id": "6698dc29",
   "metadata": {},
   "outputs": [
    {
     "name": "stdout",
     "output_type": "stream",
     "text": [
      "input_variables=['input'] input_types={} partial_variables={} messages=[SystemMessagePromptTemplate(prompt=PromptTemplate(input_variables=[], input_types={}, partial_variables={}, template='당신은 개발자입니다.'), additional_kwargs={}), HumanMessagePromptTemplate(prompt=PromptTemplate(input_variables=['input'], input_types={}, partial_variables={}, template='{input}'), additional_kwargs={})]\n"
     ]
    }
   ],
   "source": [
    "# prompt\n",
    "prompt = ChatPromptTemplate.from_messages(\n",
    "    [ (\"system\", \"당신은 개발자입니다.\") , \n",
    "     (\"user\", \"{input}\") ]\n",
    ")\n",
    "print(prompt)\n",
    "\n",
    "prompt_text = prompt.format(input=\"파이썬은 무엇인가요? 자세하게 설명해주세요\")"
   ]
  },
  {
   "cell_type": "code",
   "execution_count": 5,
   "id": "179f3ecc",
   "metadata": {},
   "outputs": [
    {
     "name": "stdout",
     "output_type": "stream",
     "text": [
      "client=<openai.resources.chat.completions.completions.Completions object at 0x000002782BE1ED80> async_client=<openai.resources.chat.completions.completions.AsyncCompletions object at 0x000002782C16DB20> root_client=<openai.OpenAI object at 0x0000027828706060> root_async_client=<openai.AsyncOpenAI object at 0x000002782C197500> model_name='meta-llama/llama-4-scout-17b-16e-instruct' temperature=0.7 model_kwargs={} openai_api_key=SecretStr('**********') openai_api_base='https://api.groq.com/openai/v1'\n"
     ]
    }
   ],
   "source": [
    "# Groq API를 사용하는 ChatOpenAI 인스턴스 생성\n",
    "llm = ChatOpenAI(\n",
    "    api_key=OPENAI_API_KEY,\n",
    "    base_url=\"https://api.groq.com/openai/v1\",  # Groq API 엔드포인트\n",
    "    model=\"meta-llama/llama-4-scout-17b-16e-instruct\",\n",
    "    temperature=0.7\n",
    ")\n",
    "print(llm)"
   ]
  },
  {
   "cell_type": "code",
   "execution_count": 8,
   "id": "df643648",
   "metadata": {},
   "outputs": [
    {
     "name": "stdout",
     "output_type": "stream",
     "text": [
      "<class 'langchain_core.messages.ai.AIMessage'>\n",
      "content='파이썬! 프로그래밍 세계에서 가장 인기 있는 언어 중 하나입니다. 파이썬은 1991년에 네덜란드계 프로그래머인 귀도 반 로섬(Guido van Rossum)에 의해 개발된 고수준 프로그래밍 언어입니다. 현재는 파이썬 소프트웨어 재단(Python Software Foundation)에서 관리하고 있습니다.\\n\\n### 특징\\n\\n파이썬의 주요 특징은 다음과 같습니다.\\n\\n* **쉬운 학습 곡선**: 파이썬은 매우 직관적이고 읽기 쉬운 문법을 가지고 있어서 초보자가 빠르게 배울 수 있습니다.\\n* **고수준 언어**: 파이썬은 하드웨어와 소프트웨어의 세부 사항에 대해 신경 쓸 필요가 없기 때문에 개발자가 비즈니스 로직에 집중할 수 있습니다.\\n* **객체 지향 언어**: 파이썬은 객체 지향 프로그래밍(OOP) 개념을 지원하여 모듈성과 재사용성을 제공합니다.\\n* **동적 타이핑**: 파이썬은 변수의 타입을 선언할 필요가 없기 때문에 코드를 빠르게 작성할 수 있습니다.\\n* **대규모 라이브러리**: 파이썬은 방대한 라이브러리와 모듈을 가지고 있어서 다양한 작업을 쉽게 수행할 수 있습니다.\\n\\n### 사용 분야\\n\\n파이썬은 다양한 분야에서 사용됩니다.\\n\\n* **웹 개발**: 파이썬은 웹 개발을 위해 Django, Flask와 같은 인기 있는 프레임워크를 가지고 있습니다.\\n* **데이터 과학**: 파이썬은 데이터 과학과 머신 러닝을 위해 NumPy, pandas, scikit-learn과 같은 라이브러리를 가지고 있습니다.\\n* **스크립팅**: 파이썬은 스크립팅 언어로 자주 사용되며, 자동화 작업을 쉽게 수행할 수 있습니다.\\n* **교육**: 파이썬은 교육 기관에서 프로그래밍 입문 언어로 자주 사용됩니다.\\n\\n### 장점\\n\\n파이썬의 장점은 다음과 같습니다.\\n\\n* **생산성**: 파이썬은 개발 속도가 빠르기 때문에 빠르게 프로토타입을 만들고 테스트할 수 있습니다.\\n* **커뮤니티**: 파이썬은 큰 커뮤니티를 가지고 있어서 도움을 얻기 쉽습니다.\\n* **플랫폼 독립성**: 파이썬은 플랫폼에 독립적이기 때문에 Windows, macOS, Linux에서 실행할 수 있습니다.\\n\\n### 단점\\n\\n파이썬의 단점은 다음과 같습니다.\\n\\n* **성능**: 파이썬은 다른 언어에 비해 성능이 느릴 수 있습니다.\\n* **멀티 쓰레딩**: 파이썬은 멀티 쓰레딩을 지원하지만, 성능 문제가 발생할 수 있습니다.\\n\\n결론적으로, 파이썬은 쉽고 빠르게 배울 수 있는 언어이며, 다양한 분야에서 사용됩니다. 생산성과 개발 속도가 빠르기 때문에 웹 개발, 데이터 과학, 스크립팅 등 다양한 분야에서 사용됩니다.' additional_kwargs={'refusal': None} response_metadata={'token_usage': {'completion_tokens': 556, 'prompt_tokens': 31, 'total_tokens': 587, 'completion_tokens_details': None, 'prompt_tokens_details': None, 'queue_time': 0.328542241, 'prompt_time': 0.003219722, 'completion_time': 1.380747107, 'total_time': 1.383966829}, 'model_name': 'meta-llama/llama-4-scout-17b-16e-instruct', 'system_fingerprint': 'fp_79da0e0073', 'id': 'chatcmpl-0be1aad3-3246-436a-8fa5-b602d0c69c9f', 'service_tier': None, 'finish_reason': 'stop', 'logprobs': None} id='run--169d9e9c-4a3c-4ecd-8a59-2fd067f0ebf5-0' usage_metadata={'input_tokens': 31, 'output_tokens': 556, 'total_tokens': 587, 'input_token_details': {}, 'output_token_details': {}}\n",
      "응답: 파이썬! 프로그래밍 세계에서 가장 인기 있는 언어 중 하나입니다. 파이썬은 1991년에 네덜란드계 프로그래머인 귀도 반 로섬(Guido van Rossum)에 의해 개발된 고수준 프로그래밍 언어입니다. 현재는 파이썬 소프트웨어 재단(Python Software Foundation)에서 관리하고 있습니다.\n",
      "\n",
      "### 특징\n",
      "\n",
      "파이썬의 주요 특징은 다음과 같습니다.\n",
      "\n",
      "* **쉬운 학습 곡선**: 파이썬은 매우 직관적이고 읽기 쉬운 문법을 가지고 있어서 초보자가 빠르게 배울 수 있습니다.\n",
      "* **고수준 언어**: 파이썬은 하드웨어와 소프트웨어의 세부 사항에 대해 신경 쓸 필요가 없기 때문에 개발자가 비즈니스 로직에 집중할 수 있습니다.\n",
      "* **객체 지향 언어**: 파이썬은 객체 지향 프로그래밍(OOP) 개념을 지원하여 모듈성과 재사용성을 제공합니다.\n",
      "* **동적 타이핑**: 파이썬은 변수의 타입을 선언할 필요가 없기 때문에 코드를 빠르게 작성할 수 있습니다.\n",
      "* **대규모 라이브러리**: 파이썬은 방대한 라이브러리와 모듈을 가지고 있어서 다양한 작업을 쉽게 수행할 수 있습니다.\n",
      "\n",
      "### 사용 분야\n",
      "\n",
      "파이썬은 다양한 분야에서 사용됩니다.\n",
      "\n",
      "* **웹 개발**: 파이썬은 웹 개발을 위해 Django, Flask와 같은 인기 있는 프레임워크를 가지고 있습니다.\n",
      "* **데이터 과학**: 파이썬은 데이터 과학과 머신 러닝을 위해 NumPy, pandas, scikit-learn과 같은 라이브러리를 가지고 있습니다.\n",
      "* **스크립팅**: 파이썬은 스크립팅 언어로 자주 사용되며, 자동화 작업을 쉽게 수행할 수 있습니다.\n",
      "* **교육**: 파이썬은 교육 기관에서 프로그래밍 입문 언어로 자주 사용됩니다.\n",
      "\n",
      "### 장점\n",
      "\n",
      "파이썬의 장점은 다음과 같습니다.\n",
      "\n",
      "* **생산성**: 파이썬은 개발 속도가 빠르기 때문에 빠르게 프로토타입을 만들고 테스트할 수 있습니다.\n",
      "* **커뮤니티**: 파이썬은 큰 커뮤니티를 가지고 있어서 도움을 얻기 쉽습니다.\n",
      "* **플랫폼 독립성**: 파이썬은 플랫폼에 독립적이기 때문에 Windows, macOS, Linux에서 실행할 수 있습니다.\n",
      "\n",
      "### 단점\n",
      "\n",
      "파이썬의 단점은 다음과 같습니다.\n",
      "\n",
      "* **성능**: 파이썬은 다른 언어에 비해 성능이 느릴 수 있습니다.\n",
      "* **멀티 쓰레딩**: 파이썬은 멀티 쓰레딩을 지원하지만, 성능 문제가 발생할 수 있습니다.\n",
      "\n",
      "결론적으로, 파이썬은 쉽고 빠르게 배울 수 있는 언어이며, 다양한 분야에서 사용됩니다. 생산성과 개발 속도가 빠르기 때문에 웹 개발, 데이터 과학, 스크립팅 등 다양한 분야에서 사용됩니다.\n"
     ]
    }
   ],
   "source": [
    "try:\n",
    "    response = llm.invoke(prompt_text)\n",
    "    print(type(response))\n",
    "    print(response)\n",
    "    print(\"응답:\", response.content)\n",
    "except Exception as e:\n",
    "    print(f\"오류 발생: {e}\")"
   ]
  }
 ],
 "metadata": {
  "kernelspec": {
   "display_name": "langchain-basic-kGdHTiMZ-py3.12",
   "language": "python",
   "name": "python3"
  },
  "language_info": {
   "codemirror_mode": {
    "name": "ipython",
    "version": 3
   },
   "file_extension": ".py",
   "mimetype": "text/x-python",
   "name": "python",
   "nbconvert_exporter": "python",
   "pygments_lexer": "ipython3",
   "version": "3.12.7"
  }
 },
 "nbformat": 4,
 "nbformat_minor": 5
}
